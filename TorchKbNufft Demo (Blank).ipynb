{
 "cells": [
  {
   "cell_type": "markdown",
   "metadata": {},
   "source": [
    "Welcome to the torchkbnufft demo! Let's get started...\n",
    "\n",
    "# Data Loading and Formatting\n",
    "First, we need to load some data. For this we can use scipy.io to load a matlab file with complex k-space data."
   ]
  },
  {
   "cell_type": "code",
   "execution_count": 1,
   "metadata": {},
   "outputs": [],
   "source": [
    "import scipy.io as sio\n",
    "\n",
    "obj = sio.loadmat('demo_data.mat')\n",
    "kdata_np, ktraj_np, smap_np = obj['kdata'], obj['ktraj'], obj['smap']"
   ]
  },
  {
   "cell_type": "markdown",
   "metadata": {},
   "source": [
    "Let's look at the size of this data set..."
   ]
  },
  {
   "cell_type": "code",
   "execution_count": 2,
   "metadata": {},
   "outputs": [
    {
     "name": "stdout",
     "output_type": "stream",
     "text": [
      "kdata size: (8, 405, 512)\n",
      "ktraj size: (2, 405, 512)\n",
      "smap size: (8, 256, 256)\n"
     ]
    }
   ],
   "source": [
    "print('kdata size: {}'.format(kdata_np.shape))\n",
    "print('ktraj size: {}'.format(ktraj_np.shape))\n",
    "print('smap size: {}'.format(smap_np.shape))"
   ]
  },
  {
   "cell_type": "markdown",
   "metadata": {},
   "source": [
    "This is a radial data set, so we have 405 spokes, each of length 512. In this case we've already calculated the sensitivity maps, but in practical settings you'll need to calculate them on your own.\n",
    "\n",
    "In order to use TorchKbNufft, we need to reshape this data so the k-space points are in a single vector. We also need to unsqueeze a batch dimension. Finally, we need to separate real and imaginary components."
   ]
  },
  {
   "cell_type": "code",
   "execution_count": 3,
   "metadata": {},
   "outputs": [
    {
     "name": "stdout",
     "output_type": "stream",
     "text": [
      "stacking real/imaginary...\n",
      "kdata shape: torch.Size([8, 2, 405, 512])\n",
      "ktraj shape: torch.Size([2, 405, 512])\n",
      "flattening k-space\n",
      "kdata shape: torch.Size([8, 2, 207360])\n",
      "ktraj shape: torch.Size([2, 207360])\n",
      "unsqueezing batch...\n",
      "kdata shape: torch.Size([1, 8, 2, 207360])\n",
      "ktraj shape: torch.Size([1, 2, 207360])\n"
     ]
    }
   ],
   "source": [
    "import torch\n",
    "import numpy as np\n",
    "\n",
    "# this \"stacks\" real and imaginary components along the second dimension\n",
    "print('stacking real/imaginary...')\n",
    "kdata = torch.stack((torch.tensor(np.real(kdata_np)), torch.tensor(np.imag(kdata_np))), dim=1)\n",
    "ktraj = torch.tensor(ktraj_np)\n",
    "print('kdata shape: {}'.format(kdata.shape))\n",
    "print('ktraj shape: {}'.format(ktraj.shape))\n",
    "\n",
    "# flatten k-space coordinates...\n",
    "print('flattening k-space')\n",
    "kdata = kdata.view(kdata.shape[0], kdata.shape[1], -1)\n",
    "ktraj = ktraj.view(ktraj.shape[0], -1)\n",
    "print('kdata shape: {}'.format(kdata.shape))\n",
    "print('ktraj shape: {}'.format(ktraj.shape))\n",
    "\n",
    "# unsqueeze the batch dimension\n",
    "print('unsqueezing batch...')\n",
    "kdata = kdata.unsqueeze(0)\n",
    "ktraj = ktraj.unsqueeze(0)\n",
    "print('kdata shape: {}'.format(kdata.shape))\n",
    "print('ktraj shape: {}'.format(ktraj.shape))"
   ]
  },
  {
   "cell_type": "markdown",
   "metadata": {},
   "source": [
    "We also need to convert the sensitivity maps to a tensor..."
   ]
  },
  {
   "cell_type": "code",
   "execution_count": 4,
   "metadata": {},
   "outputs": [
    {
     "name": "stdout",
     "output_type": "stream",
     "text": [
      "smap shape: torch.Size([1, 8, 2, 256, 256])\n"
     ]
    }
   ],
   "source": [
    "smap = torch.stack((torch.tensor(np.real(smap_np)), torch.tensor(np.imag(smap_np))), dim=1)\n",
    "smap = smap.unsqueeze(0)\n",
    "print('smap shape: {}'.format(smap.shape))"
   ]
  },
  {
   "cell_type": "markdown",
   "metadata": {},
   "source": [
    "# Adjoint SENSE NUFFTs\n",
    "\n",
    "Now we're ready to use the package!\n",
    "\n",
    "Using TorchKbNufft is essentially the same as using PyTorch. First, you define a layer (either a forward or adjoint NUFFT). Then, you can apply that layer."
   ]
  },
  {
   "cell_type": "code",
   "execution_count": null,
   "metadata": {},
   "outputs": [],
   "source": []
  },
  {
   "cell_type": "markdown",
   "metadata": {},
   "source": [
    "Let's use the NUFFT and plot!"
   ]
  },
  {
   "cell_type": "code",
   "execution_count": null,
   "metadata": {},
   "outputs": [],
   "source": []
  },
  {
   "cell_type": "markdown",
   "metadata": {},
   "source": [
    "We can improve the image with some density compensation..."
   ]
  },
  {
   "cell_type": "code",
   "execution_count": null,
   "metadata": {},
   "outputs": [],
   "source": []
  },
  {
   "cell_type": "code",
   "execution_count": null,
   "metadata": {},
   "outputs": [],
   "source": []
  },
  {
   "cell_type": "markdown",
   "metadata": {},
   "source": [
    "# Sparse Matrix Mode\n",
    "\n",
    "The operation we just covered uses table interpolation. In many cases, using sparse matrices as a backend can be faster. We can easily use sparse matrices in TorchKbNufft with a simple precomputation step."
   ]
  },
  {
   "cell_type": "code",
   "execution_count": null,
   "metadata": {},
   "outputs": [],
   "source": []
  },
  {
   "cell_type": "markdown",
   "metadata": {},
   "source": [
    "# Toeplitz forward/backward NUFFTs\n",
    "\n",
    "Toeplitz NUFFTs are a very fast way to compute forward/backward nuffts without any interpolation steps. They only require precalculation of an FFT filter."
   ]
  },
  {
   "cell_type": "code",
   "execution_count": null,
   "metadata": {},
   "outputs": [],
   "source": []
  },
  {
   "cell_type": "markdown",
   "metadata": {},
   "source": [
    "Now let's test it..."
   ]
  },
  {
   "cell_type": "code",
   "execution_count": null,
   "metadata": {},
   "outputs": [],
   "source": []
  },
  {
   "cell_type": "markdown",
   "metadata": {},
   "source": [
    "And the Toeplitz version..."
   ]
  },
  {
   "cell_type": "code",
   "execution_count": null,
   "metadata": {},
   "outputs": [],
   "source": []
  },
  {
   "cell_type": "code",
   "execution_count": null,
   "metadata": {},
   "outputs": [],
   "source": []
  },
  {
   "cell_type": "code",
   "execution_count": null,
   "metadata": {},
   "outputs": [],
   "source": []
  }
 ],
 "metadata": {
  "kernelspec": {
   "display_name": "Python 3",
   "language": "python",
   "name": "python3"
  },
  "language_info": {
   "codemirror_mode": {
    "name": "ipython",
    "version": 3
   },
   "file_extension": ".py",
   "mimetype": "text/x-python",
   "name": "python",
   "nbconvert_exporter": "python",
   "pygments_lexer": "ipython3",
   "version": "3.7.6"
  }
 },
 "nbformat": 4,
 "nbformat_minor": 4
}
